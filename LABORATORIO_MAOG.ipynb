{
  "nbformat": 4,
  "nbformat_minor": 0,
  "metadata": {
    "colab": {
      "provenance": [],
      "authorship_tag": "ABX9TyPP+glqn8TPKKVZRhF9q9P3",
      "include_colab_link": true
    },
    "kernelspec": {
      "name": "python3",
      "display_name": "Python 3"
    },
    "language_info": {
      "name": "python"
    }
  },
  "cells": [
    {
      "cell_type": "markdown",
      "metadata": {
        "id": "view-in-github",
        "colab_type": "text"
      },
      "source": [
        "<a href=\"https://colab.research.google.com/github/Maurogalgi/LABORATORIO-13-MAOG/blob/main/LABORATORIO_MAOG.ipynb\" target=\"_parent\"><img src=\"https://colab.research.google.com/assets/colab-badge.svg\" alt=\"Open In Colab\"/></a>"
      ]
    },
    {
      "cell_type": "code",
      "execution_count": null,
      "metadata": {
        "id": "LAcXRXXAzXgJ"
      },
      "outputs": [],
      "source": []
    },
    {
      "cell_type": "markdown",
      "source": [
        "Utiliza la librería TextBlob para analizar el sentimiento de varias frases. Debes interpretar el sentimiento de las frases como positivo, negativo o neutral en base a su polaridad.  "
      ],
      "metadata": {
        "id": "wN0k7umf2Ivh"
      }
    },
    {
      "cell_type": "code",
      "source": [
        "from textblob import TextBlob\n",
        "\n",
        "# Lista de las frases a analizar\n",
        "frases_actividad_1 = [\n",
        "    \"The weather today is absolutely beautiful!\",\n",
        "    \"I am really disappointed with the new update.\",\n",
        "    \"The event was well-organized but lacked excitement.\"\n",
        "]\n",
        "\n",
        "def clasificar_sentimiento_textblob(texto):\n",
        "    \"\"\"\n",
        "    Analiza el sentimiento de un texto usando TextBlob.\n",
        "    Clasifica como Positivo, Negativo o Neutral basado en umbrales de polaridad.\n",
        "    \"\"\"\n",
        "    # Crear un objeto TextBlob\n",
        "    blob = TextBlob(texto)\n",
        "\n",
        "    # Obtener la polaridad (sentimiento)\n",
        "    polaridad = blob.sentiment.polarity\n",
        "\n",
        "    # Definir umbrales para la clasificación\n",
        "    # Nota: Estos umbrales pueden ajustarse según la necesidad.\n",
        "    umbral_positivo = 0.1\n",
        "    umbral_negativo = -0.1\n",
        "\n",
        "    if polaridad > umbral_positivo:\n",
        "        sentimiento = \"POSITIVO\"\n",
        "    elif polaridad < umbral_negativo:\n",
        "        sentimiento = \"NEGATIVO\"\n",
        "    else:\n",
        "        sentimiento = \"NEUTRAL\"\n",
        "\n",
        "    return polaridad, sentimiento\n",
        "\n",
        "# Ejecutar el análisis y mostrar los resultados\n",
        "print(\"--- ANÁLISIS DE SENTIMIENTO DE LA ACTIVIDAD 1 ---\")\n",
        "print(\"-------------------------------------------------\")\n",
        "\n",
        "for i, frase in enumerate(frases_actividad_1, 1):\n",
        "    polaridad, sentimiento = clasificar_sentimiento_textblob(frase)\n",
        "\n",
        "    print(f\"{'I.' if i == 1 else 'II.' if i == 2 else 'III.'} Frase: '{frase}'\")\n",
        "    print(f\"   * **Polaridad:** {polaridad:.4f}\")\n",
        "    print(f\"   * **Sentimiento:** **{sentimiento}**\")\n",
        "    print(\"-\" * 35)"
      ],
      "metadata": {
        "colab": {
          "base_uri": "https://localhost:8080/"
        },
        "id": "bWl_BLri2Sf4",
        "outputId": "79579082-23b7-4d9e-a12d-b07289ba1669"
      },
      "execution_count": 2,
      "outputs": [
        {
          "output_type": "stream",
          "name": "stdout",
          "text": [
            "--- ANÁLISIS DE SENTIMIENTO DE LA ACTIVIDAD 1 ---\n",
            "-------------------------------------------------\n",
            "I. Frase: 'The weather today is absolutely beautiful!'\n",
            "   * **Polaridad:** 1.0000\n",
            "   * **Sentimiento:** **POSITIVO**\n",
            "-----------------------------------\n",
            "II. Frase: 'I am really disappointed with the new update.'\n",
            "   * **Polaridad:** -0.3068\n",
            "   * **Sentimiento:** **NEGATIVO**\n",
            "-----------------------------------\n",
            "III. Frase: 'The event was well-organized but lacked excitement.'\n",
            "   * **Polaridad:** 0.0000\n",
            "   * **Sentimiento:** **NEUTRAL**\n",
            "-----------------------------------\n"
          ]
        }
      ]
    }
  ]
}